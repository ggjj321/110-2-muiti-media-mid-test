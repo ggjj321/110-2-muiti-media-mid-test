{
 "cells": [
  {
   "cell_type": "code",
   "execution_count": 1,
   "metadata": {},
   "outputs": [
    {
     "name": "stdout",
     "output_type": "stream",
     "text": [
      "60000\n"
     ]
    }
   ],
   "source": [
    "import cv2\n",
    " \n",
    "# 開啟影片檔案\n",
    "cap = cv2.VideoCapture('test_dataset.avi')\n",
    "wordPic = []\n",
    "# 以迴圈從影片檔案讀取影格，並顯示出來\n",
    "while(cap.isOpened()):\n",
    "    ret, frame = cap.read()\n",
    "    if not ret:\n",
    "        break\n",
    "    gray = cv2.cvtColor(frame, cv2.COLOR_BGR2GRAY)\n",
    "    wordPic.append(gray)\n",
    "    \n",
    " \n",
    "cap.release()\n",
    "cv2.destroyAllWindows()\n",
    "print(len(wordPic))"
   ]
  },
  {
   "cell_type": "code",
   "execution_count": 5,
   "metadata": {},
   "outputs": [],
   "source": [
    "import numpy as np"
   ]
  },
  {
   "cell_type": "code",
   "execution_count": null,
   "metadata": {},
   "outputs": [],
   "source": [
    "label = np.loadtxt('label.txt', delimiter=',')\n",
    "print(len(label))"
   ]
  },
  {
   "cell_type": "code",
   "execution_count": 40,
   "metadata": {},
   "outputs": [],
   "source": [
    "from sklearn import datasets, svm, metrics\n",
    "from sklearn.model_selection import train_test_split\n",
    "from sklearn.metrics import accuracy_score,classification_report\n",
    "from sklearn.metrics import confusion_matrix,ConfusionMatrixDisplay"
   ]
  },
  {
   "cell_type": "code",
   "execution_count": 25,
   "metadata": {},
   "outputs": [],
   "source": [
    "wordPic = np.array(wordPic)\n",
    "label = np.array(label)\n",
    "X_train, X_test, y_train, y_test = train_test_split(\n",
    "     wordPic, label, test_size=0.4, random_state=42)\n",
    "\n",
    "dataset_size = len(X_train)\n",
    "test_size = len(X_test)\n",
    "X_train = X_train.reshape(dataset_size,-1)\n",
    "X_test = X_test.reshape(test_size,-1)"
   ]
  },
  {
   "cell_type": "code",
   "execution_count": 9,
   "metadata": {},
   "outputs": [],
   "source": [
    "svc = svm.SVC(gamma='scale',class_weight='balanced',C=100)"
   ]
  },
  {
   "cell_type": "code",
   "execution_count": 10,
   "metadata": {},
   "outputs": [
    {
     "data": {
      "text/plain": [
       "SVC(C=100, class_weight='balanced')"
      ]
     },
     "execution_count": 10,
     "metadata": {},
     "output_type": "execute_result"
    }
   ],
   "source": [
    "svc.fit(X_train,y_train)"
   ]
  },
  {
   "cell_type": "code",
   "execution_count": 26,
   "metadata": {},
   "outputs": [],
   "source": [
    "result=svc.predict(X_test)"
   ]
  },
  {
   "cell_type": "code",
   "execution_count": 28,
   "metadata": {},
   "outputs": [
    {
     "name": "stdout",
     "output_type": "stream",
     "text": [
      "Accuracy : 0.9805\n",
      "              precision    recall  f1-score   support\n",
      "\n",
      "         0.0       0.99      0.99      0.99      2364\n",
      "         1.0       0.99      0.99      0.99      2672\n",
      "         2.0       0.97      0.98      0.98      2322\n",
      "         3.0       0.98      0.97      0.98      2484\n",
      "         4.0       0.98      0.98      0.98      2334\n",
      "         5.0       0.98      0.98      0.98      2215\n",
      "         6.0       0.99      0.99      0.99      2416\n",
      "         7.0       0.98      0.98      0.98      2516\n",
      "         8.0       0.98      0.97      0.97      2305\n",
      "         9.0       0.97      0.97      0.97      2372\n",
      "\n",
      "    accuracy                           0.98     24000\n",
      "   macro avg       0.98      0.98      0.98     24000\n",
      "weighted avg       0.98      0.98      0.98     24000\n",
      "\n"
     ]
    }
   ],
   "source": [
    "print('Accuracy :',accuracy_score(y_test,result))\n",
    "print(classification_report(y_test,result))"
   ]
  },
  {
   "cell_type": "code",
   "execution_count": 32,
   "metadata": {},
   "outputs": [],
   "source": [
    "import matplotlib.pyplot as plt\n",
    "from sklearn.pipeline import make_pipeline\n",
    "from sklearn.preprocessing import StandardScaler"
   ]
  },
  {
   "cell_type": "code",
   "execution_count": 55,
   "metadata": {},
   "outputs": [],
   "source": [
    "# metrics.ConfusionMatrixDisplay.from_predictions(y_test, result)\n",
    "# # disp.figure_.suptitle(\"Confusion Matrix\")\n",
    "# # print(f\"Confusion matrix:\\n{disp.confusion_matrix}\")\n",
    "\n",
    "# # plt.show()"
   ]
  },
  {
   "cell_type": "code",
   "execution_count": 60,
   "metadata": {},
   "outputs": [
    {
     "data": {
      "image/png": "[encoded data removed]",
      "text/plain": [
       "<Figure size 720x216 with 5 Axes>"
      ]
     },
     "metadata": {
      "needs_background": "light"
     },
     "output_type": "display_data"
    }
   ],
   "source": [
    "_, axes = plt.subplots(nrows=1, ncols=5, figsize=(10, 3))\n",
    "for ax, image, prediction in zip(axes, X_train, y_train):\n",
    "    ax.set_axis_off()\n",
    "    image = image.reshape(28, 28)\n",
    "    ax.imshow(image, cmap=plt.cm.gray_r, interpolation=\"nearest\")\n",
    "    ax.set_title(f\"Training: {prediction}\")"
   ]
  },
  {
   "cell_type": "code",
   "execution_count": 52,
   "metadata": {},
   "outputs": [
    {
     "data": {
      "image/png": "[encoded data removed]",
      "text/plain": [
       "<Figure size 720x216 with 5 Axes>"
      ]
     },
     "metadata": {
      "needs_background": "light"
     },
     "output_type": "display_data"
    }
   ],
   "source": [
    "_, axes = plt.subplots(nrows=1, ncols=5, figsize=(10, 3))\n",
    "for ax, image, prediction in zip(axes, X_test, result):\n",
    "    ax.set_axis_off()\n",
    "    image = image.reshape(28, 28)\n",
    "    ax.imshow(image, cmap=plt.cm.gray_r, interpolation=\"nearest\")\n",
    "    ax.set_title(f\"Prediction: {prediction}\")"
   ]
  },
  {
   "cell_type": "code",
   "execution_count": 46,
   "metadata": {},
   "outputs": [],
   "source": [
    "def bHeadCal(x, y):\n",
    "    xArray = np.array(x)\n",
    "    yArray = np.array(y)\n",
    "    antecedent = np.linalg.inv(np.dot(np.transpose(xArray), xArray))\n",
    "    consequent = np.dot(np.transpose(xArray), yArray)\n",
    "    x = antecedent[0][0] * consequent[0] + antecedent[0][1] * consequent[1]\n",
    "    return np.dot(antecedent, consequent)"
   ]
  },
  {
   "cell_type": "code",
   "execution_count": 67,
   "metadata": {},
   "outputs": [],
   "source": [
    "def predict(parmeters, b):\n",
    "    return b[0] + np.dot(parmeters, b[1:])"
   ]
  },
  {
   "cell_type": "code",
   "execution_count": 3,
   "metadata": {},
   "outputs": [],
   "source": [
    "fileName = \"data_class.txt\"\n",
    "height = []\n",
    "weight = []\n",
    "sex = []\n",
    "with open(fileName, 'r', encoding=\"utf-8\") as f:\n",
    "    for line in f.readlines():\n",
    "        data = list(line.split(\"\\t\"))\n",
    "        height.append([float(data[1])])\n",
    "        weight.append([float(data[1])])\n",
    "        if data[2] == '男\\n':\n",
    "            sex.append([0])\n",
    "        else:\n",
    "            sex.append([1])"
   ]
  },
  {
   "cell_type": "code",
   "execution_count": 36,
   "metadata": {},
   "outputs": [
    {
     "name": "stdout",
     "output_type": "stream",
     "text": [
      "[array([ 1. , 56.6]), array([ 1., 50.]), array([ 1., 62.]), array([ 1., 66.]), array([ 1., 70.]), array([ 1., 54.]), array([ 1., 62.]), array([ 1., 30.]), array([ 1., 60.]), array([ 1., 54.]), array([ 1., 58.]), array([  1., 103.]), array([ 1., 83.]), array([ 1., 65.]), array([ 1., 50.]), array([ 1., 54.]), array([ 1., 58.]), array([ 1., 60.]), array([ 1., 40.]), array([ 1., 55.]), array([ 1., 45.]), array([ 1., 90.]), array([ 1., 80.]), array([  1., 101.])]\n"
     ]
    }
   ],
   "source": [
    "inputData = []\n",
    "for i in range(len(height)):\n",
    "    inputData.append(np.concatenate([[1], height[i]]))\n",
    "print(inputData)"
   ]
  },
  {
   "cell_type": "code",
   "execution_count": 49,
   "metadata": {},
   "outputs": [],
   "source": [
    "from sklearn.model_selection import train_test_split"
   ]
  },
  {
   "cell_type": "code",
   "execution_count": 62,
   "metadata": {},
   "outputs": [],
   "source": [
    "xFleName = \"iris_x.txt\"\n",
    "yFleName = \"iris_y.txt\"\n",
    "\n",
    "xData = []\n",
    "yData = []\n",
    "\n",
    "\n",
    "with open(xFleName, 'r') as f:\n",
    "    for line in f.readlines():\n",
    "        xData.append(list(map(float, line.split(\"\\t\")[:-1])))\n",
    "\n",
    "with open(yFleName, 'r') as f:\n",
    "    for line in f.readlines():\n",
    "        yData.append(int(line[-2]))\n",
    "\n",
    "x_train, x_test, y_train, y_test = train_test_split(\n",
    "    xData, yData, test_size=0.2, random_state=20220413)"
   ]
  },
  {
   "cell_type": "code",
   "execution_count": 63,
   "metadata": {},
   "outputs": [],
   "source": [
    "for array in x_train:\n",
    "    array.insert(0, 1)"
   ]
  },
  {
   "cell_type": "code",
   "execution_count": 64,
   "metadata": {},
   "outputs": [
    {
     "name": "stdout",
     "output_type": "stream",
     "text": [
      "[[ 120.    694.2   365.8   436.5   136.9 ]\n",
      " [ 694.2  4097.82 2108.84 2677.61  853.21]\n",
      " [ 365.8  2108.84 1138.74 1284.68  400.37]\n",
      " [ 436.5  2677.61 1284.68 1966.23  653.58]\n",
      " [ 136.9   853.21  400.37  653.58  225.29]]\n",
      "17.72089036025463\n"
     ]
    }
   ],
   "source": [
    "bHead = bHeadCal(x_train, y_train)"
   ]
  },
  {
   "cell_type": "code",
   "execution_count": 65,
   "metadata": {},
   "outputs": [
    {
     "name": "stdout",
     "output_type": "stream",
     "text": [
      "(5,)\n",
      "[[1, 4.4, 3.0, 1.3, 0.2], [1, 5.4, 3.7, 1.5, 0.2], [1, 4.4, 2.9, 1.4, 0.2], [1, 7.7, 2.6, 6.9, 2.3], [1, 5.1, 3.5, 1.4, 0.2], [1, 5.0, 2.3, 3.3, 1.0], [1, 6.1, 2.6, 5.6, 1.4], [1, 6.3, 2.5, 5.0, 1.9], [1, 4.5, 2.3, 1.3, 0.3], [1, 7.4, 2.8, 6.1, 1.9], [1, 6.3, 2.5, 4.9, 1.5], [1, 5.6, 2.5, 3.9, 1.1], [1, 5.7, 2.5, 5.0, 2.0], [1, 5.9, 3.0, 4.2, 1.5], [1, 6.6, 2.9, 4.6, 1.3], [1, 6.1, 3.0, 4.6, 1.4], [1, 6.4, 2.7, 5.3, 1.9], [1, 4.7, 3.2, 1.3, 0.2], [1, 5.8, 2.7, 3.9, 1.2], [1, 5.0, 2.0, 3.5, 1.0], [1, 5.0, 3.3, 1.4, 0.2], [1, 4.9, 3.0, 1.4, 0.2], [1, 5.0, 3.5, 1.6, 0.6], [1, 5.7, 3.0, 4.2, 1.2], [1, 5.7, 4.4, 1.5, 0.4], [1, 6.2, 2.8, 4.8, 1.8], [1, 5.4, 3.4, 1.7, 0.2], [1, 5.4, 3.4, 1.5, 0.4], [1, 5.1, 3.4, 1.5, 0.2], [1, 5.2, 4.1, 1.5, 0.1], [1, 5.2, 2.7, 3.9, 1.4], [1, 5.1, 3.8, 1.6, 0.2], [1, 5.1, 3.5, 1.4, 0.3], [1, 6.0, 3.0, 4.8, 1.8], [1, 6.0, 2.2, 4.0, 1.0], [1, 6.5, 3.0, 5.2, 2.0], [1, 5.8, 2.8, 5.1, 2.4], [1, 4.8, 3.1, 1.6, 0.2], [1, 5.6, 2.7, 4.2, 1.3], [1, 5.1, 3.7, 1.5, 0.4], [1, 6.0, 2.2, 5.0, 1.5], [1, 6.2, 3.4, 5.4, 2.3], [1, 5.5, 4.2, 1.4, 0.2], [1, 4.6, 3.6, 1.0, 0.2], [1, 7.2, 3.2, 6.0, 1.8], [1, 7.9, 3.8, 6.4, 2.0], [1, 5.7, 2.6, 3.5, 1.0], [1, 5.3, 3.7, 1.5, 0.2], [1, 6.0, 2.9, 4.5, 1.5], [1, 6.2, 2.9, 4.3, 1.3], [1, 7.0, 3.2, 4.7, 1.4], [1, 4.3, 3.0, 1.1, 0.1], [1, 5.9, 3.2, 4.8, 1.8], [1, 5.5, 2.6, 4.4, 1.2], [1, 4.9, 3.1, 1.5, 0.1], [1, 6.1, 2.9, 4.7, 1.4], [1, 6.7, 3.0, 5.0, 1.7], [1, 6.5, 3.0, 5.8, 2.2], [1, 6.7, 2.5, 5.8, 1.8], [1, 5.5, 2.3, 4.0, 1.3], [1, 6.4, 2.8, 5.6, 2.2], [1, 5.8, 2.7, 4.1, 1.0], [1, 4.9, 3.1, 1.5, 0.1], [1, 7.2, 3.0, 5.8, 1.6], [1, 5.4, 3.0, 4.5, 1.5], [1, 7.7, 3.0, 6.1, 2.3], [1, 6.9, 3.1, 5.4, 2.1], [1, 5.6, 2.8, 4.9, 2.0], [1, 5.9, 3.0, 5.1, 1.8], [1, 6.3, 2.9, 5.6, 1.8], [1, 5.7, 3.8, 1.7, 0.3], [1, 4.9, 3.1, 1.5, 0.1], [1, 4.9, 2.5, 4.5, 1.7], [1, 6.1, 2.8, 4.0, 1.3], [1, 5.5, 3.5, 1.3, 0.2], [1, 6.2, 2.2, 4.5, 1.5], [1, 6.3, 3.4, 5.6, 2.4], [1, 5.4, 3.9, 1.3, 0.4], [1, 6.8, 3.0, 5.5, 2.1], [1, 6.7, 3.1, 4.7, 1.5], [1, 6.7, 3.1, 5.6, 2.4], [1, 5.7, 2.8, 4.5, 1.3], [1, 6.9, 3.1, 4.9, 1.5], [1, 6.3, 2.8, 5.1, 1.5], [1, 6.0, 2.7, 5.1, 1.6], [1, 7.7, 2.8, 6.7, 2.0], [1, 4.8, 3.0, 1.4, 0.1], [1, 7.1, 3.0, 5.9, 2.1], [1, 6.5, 2.8, 4.6, 1.5], [1, 4.4, 3.2, 1.3, 0.2], [1, 5.1, 3.3, 1.7, 0.5], [1, 5.2, 3.4, 1.4, 0.2], [1, 4.7, 3.2, 1.6, 0.2], [1, 6.3, 2.3, 4.4, 1.3], [1, 4.8, 3.4, 1.6, 0.2], [1, 5.6, 3.0, 4.1, 1.3], [1, 6.0, 3.4, 4.5, 1.6], [1, 5.0, 3.4, 1.6, 0.4], [1, 6.4, 3.2, 5.3, 2.3], [1, 5.0, 3.6, 1.4, 0.2], [1, 5.8, 4.0, 1.2, 0.2], [1, 4.8, 3.0, 1.4, 0.3], [1, 6.1, 3.0, 4.9, 1.8], [1, 5.1, 3.8, 1.9, 0.4], [1, 6.4, 2.8, 5.6, 2.1], [1, 7.3, 2.9, 6.3, 1.8], [1, 6.3, 2.7, 4.9, 1.8], [1, 5.0, 3.2, 1.2, 0.2], [1, 4.6, 3.1, 1.5, 0.2], [1, 4.6, 3.4, 1.4, 0.3], [1, 5.0, 3.5, 1.3, 0.3], [1, 6.9, 3.1, 5.1, 2.3], [1, 6.5, 3.2, 5.1, 2.0], [1, 5.8, 2.6, 4.0, 1.2], [1, 4.8, 3.4, 1.9, 0.2], [1, 7.2, 3.6, 6.1, 2.5], [1, 4.9, 2.4, 3.3, 1.0], [1, 5.6, 3.0, 4.5, 1.5], [1, 5.7, 2.8, 4.1, 1.3], [1, 6.1, 2.8, 4.7, 1.2]]\n",
      "[0, 0, 0, 2, 0, 1, 2, 2, 0, 2, 1, 1, 2, 1, 1, 1, 2, 0, 1, 1, 0, 0, 0, 1, 0, 2, 0, 0, 0, 0, 1, 0, 0, 2, 1, 2, 2, 0, 1, 0, 2, 2, 0, 0, 2, 2, 1, 0, 1, 1, 1, 0, 1, 1, 0, 1, 1, 2, 2, 1, 2, 1, 0, 2, 1, 2, 2, 2, 2, 2, 0, 0, 2, 1, 0, 1, 2, 0, 2, 1, 2, 1, 1, 2, 1, 2, 0, 2, 1, 0, 0, 0, 0, 1, 0, 1, 1, 0, 2, 0, 0, 0, 2, 0, 2, 2, 2, 0, 0, 0, 0, 2, 2, 1, 0, 2, 1, 1, 1, 1]\n"
     ]
    }
   ],
   "source": [
    "print(bHead.shape)\n",
    "print(x_train)\n",
    "print(y_train)"
   ]
  },
  {
   "cell_type": "code",
   "execution_count": 66,
   "metadata": {},
   "outputs": [
    {
     "name": "stdout",
     "output_type": "stream",
     "text": [
      "[ 0.05420495 -0.07565083 -0.04595657  0.21104357  0.61871881]\n"
     ]
    }
   ],
   "source": [
    "print(bHead)"
   ]
  },
  {
   "cell_type": "code",
   "execution_count": 68,
   "metadata": {},
   "outputs": [
    {
     "name": "stdout",
     "output_type": "stream",
     "text": [
      "-0.07325749008130844\n"
     ]
    }
   ],
   "source": [
    "print(predict([5.1, 3.5, 1.4, 0.2], bHead))"
   ]
  },
  {
   "cell_type": "code",
   "execution_count": 69,
   "metadata": {},
   "outputs": [],
   "source": [
    "result = []\n",
    "for test in x_test:\n",
    "    result.append(predict(test, bHead))"
   ]
  },
  {
   "cell_type": "code",
   "execution_count": 71,
   "metadata": {},
   "outputs": [],
   "source": [
    "from sklearn.metrics import mean_squared_error"
   ]
  },
  {
   "cell_type": "code",
   "execution_count": 72,
   "metadata": {},
   "outputs": [
    {
     "name": "stdout",
     "output_type": "stream",
     "text": [
      "MSE:0.032088157217009666\n"
     ]
    }
   ],
   "source": [
    "print(\"MSE:\" + str(mean_squared_error(y_test, result)))"
   ]
  },
  {
   "cell_type": "code",
   "execution_count": null,
   "metadata": {},
   "outputs": [],
   "source": []
  }
 ],
 "metadata": {
  "kernelspec": {
   "display_name": "Python 3",
   "language": "python",
   "name": "python3"
  },
  "language_info": {
   "codemirror_mode": {
    "name": "ipython",
    "version": 3
   },
   "file_extension": ".py",
   "mimetype": "text/x-python",
   "name": "python",
   "nbconvert_exporter": "python",
   "pygments_lexer": "ipython3",
   "version": "3.8.3"
  }
 },
 "nbformat": 4,
 "nbformat_minor": 4
}
